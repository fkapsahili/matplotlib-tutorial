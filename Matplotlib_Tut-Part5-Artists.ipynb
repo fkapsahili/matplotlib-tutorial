{
 "cells": [
  {
   "cell_type": "code",
   "execution_count": null,
   "metadata": {
    "jupyter": {
     "outputs_hidden": false
    }
   },
   "outputs": [],
   "source": [
    "import matplotlib\n",
    "import numpy as np\n",
    "import matplotlib.pyplot as plt"
   ]
  },
  {
   "cell_type": "markdown",
   "metadata": {},
   "source": [
    "# Artists\n",
    "Anything that can be displayed in a Figure is an [`Artist`](https://matplotlib.org/stable/tutorials/intermediate/artists.html). There are two main classes of Artists: primitives and containers. Below is a sample of these primitives."
   ]
  },
  {
   "cell_type": "code",
   "execution_count": null,
   "metadata": {
    "jupyter": {
     "outputs_hidden": false
    }
   },
   "outputs": [],
   "source": [
    "\"\"\"\n",
    "Show examples of matplotlib artists\n",
    "\n",
    "\n",
    "Several examples of standard matplotlib graphics primitives (artists)\n",
    "are drawn using matplotlib API. Full list of artists and the\n",
    "documentation is available at\n",
    "https://matplotlib.org/stable/api/artist_api.html\n",
    "\n",
    "Copyright (c) 2010, Bartosz Telenczuk\n",
    "\n",
    "License: This work is licensed under the BSD. A copy should be\n",
    "included with this source code, and is also available at\n",
    "http://www.opensource.org/licenses/bsd-license.php\n",
    "\"\"\"\n",
    "\n",
    "import matplotlib.pyplot as plt\n",
    "import numpy as np\n",
    "import matplotlib.path as mpath\n",
    "import matplotlib.lines as mlines\n",
    "import matplotlib.patches as mpatches\n",
    "from matplotlib.collections import PatchCollection\n",
    "\n",
    "\n",
    "def label(xy, text):\n",
    "    y = xy[1] - 0.15  # shift y-value for label so that it's below the artist\n",
    "    plt.text(xy[0], y, text, ha=\"center\", family='sans-serif', size=14)\n",
    "\n",
    "\n",
    "fig, ax = plt.subplots()\n",
    "# create 3x3 grid to plot the artists\n",
    "grid = np.mgrid[0.2:0.8:3j, 0.2:0.8:3j].reshape(2, -1).T\n",
    "\n",
    "patches = []\n",
    "\n",
    "# add a circle\n",
    "circle = mpatches.Circle(grid[0], 0.1, ec=\"none\")\n",
    "patches.append(circle)\n",
    "label(grid[0], \"Circle\")\n",
    "\n",
    "# add a rectangle\n",
    "rect = mpatches.Rectangle(grid[1] - [0.025, 0.05], 0.05, 0.1, ec=\"none\")\n",
    "patches.append(rect)\n",
    "label(grid[1], \"Rectangle\")\n",
    "\n",
    "# add a wedge\n",
    "wedge = mpatches.Wedge(grid[2], 0.1, 30, 270, ec=\"none\")\n",
    "patches.append(wedge)\n",
    "label(grid[2], \"Wedge\")\n",
    "\n",
    "# add a Polygon\n",
    "polygon = mpatches.RegularPolygon(grid[3], 5, 0.1)\n",
    "patches.append(polygon)\n",
    "label(grid[3], \"Polygon\")\n",
    "\n",
    "# add an ellipse\n",
    "ellipse = mpatches.Ellipse(grid[4], 0.2, 0.1)\n",
    "patches.append(ellipse)\n",
    "label(grid[4], \"Ellipse\")\n",
    "\n",
    "# add an arrow\n",
    "arrow = mpatches.Arrow(grid[5, 0] - 0.05, grid[5, 1] - 0.05, 0.1, 0.1,\n",
    "                       width=0.1)\n",
    "patches.append(arrow)\n",
    "label(grid[5], \"Arrow\")\n",
    "\n",
    "# add a path patch\n",
    "Path = mpath.Path\n",
    "path_data = [\n",
    "    (Path.MOVETO, [0.018, -0.11]),\n",
    "    (Path.CURVE4, [-0.031, -0.051]),\n",
    "    (Path.CURVE4, [-0.115, 0.073]),\n",
    "    (Path.CURVE4, [-0.03, 0.073]),\n",
    "    (Path.LINETO, [-0.011, 0.039]),\n",
    "    (Path.CURVE4, [0.043, 0.121]),\n",
    "    (Path.CURVE4, [0.075, -0.005]),\n",
    "    (Path.CURVE4, [0.035, -0.027]),\n",
    "    (Path.CLOSEPOLY, [0.018, -0.11])]\n",
    "codes, verts = zip(*path_data)\n",
    "path = mpath.Path(verts + grid[6], codes)\n",
    "patch = mpatches.PathPatch(path)\n",
    "patches.append(patch)\n",
    "label(grid[6], \"PathPatch\")\n",
    "\n",
    "# add a fancy box\n",
    "fancybox = mpatches.FancyBboxPatch(\n",
    "    grid[7] - [0.025, 0.05], 0.05, 0.1,\n",
    "    boxstyle=mpatches.BoxStyle(\"Round\", pad=0.02))\n",
    "patches.append(fancybox)\n",
    "label(grid[7], \"FancyBboxPatch\")\n",
    "\n",
    "# add a line\n",
    "x, y = ([-0.06, 0.0, 0.1], [0.05, -0.05, 0.05])\n",
    "line = mlines.Line2D(x + grid[8, 0], y + grid[8, 1], lw=5., alpha=0.3)\n",
    "label(grid[8], \"Line2D\")\n",
    "\n",
    "colors = np.linspace(0, 1, len(patches))\n",
    "collection = PatchCollection(patches, cmap=plt.cm.hsv, alpha=0.3)\n",
    "collection.set_array(colors)\n",
    "ax.add_collection(collection)\n",
    "ax.add_line(line)\n",
    "\n",
    "plt.axis('equal')\n",
    "plt.axis('off')\n",
    "plt.tight_layout()\n",
    "\n",
    "plt.show()"
   ]
  },
  {
   "cell_type": "markdown",
   "metadata": {},
   "source": [
    "Containers are objects like *Figure* and *Axes*. Containers are given primitives to draw. The plotting functions we discussed back in Parts 1 & 2 are convenience functions that generate these primitives and place them into the appropriate containers. In fact, most of those functions will return artist objects (or a list of artist objects) as well as store them into the appropriate axes container.\n",
    "\n",
    "As discussed in Part 3, there is a wide range of properties that can be defined for your plots.  These properties are processed and applied to their primitives. Ultimately, you can override anything you want just by directly setting a property to the object itself."
   ]
  },
  {
   "cell_type": "code",
   "execution_count": null,
   "metadata": {
    "jupyter": {
     "outputs_hidden": false
    }
   },
   "outputs": [],
   "source": [
    "fig, ax = plt.subplots(1, 1)\n",
    "lines = plt.plot([1, 2, 3, 4], [1, 2, 3, 4], 'b', [1, 2, 3, 4], [4, 3, 2, 1], 'r')\n",
    "lines[0].set(linewidth=5)\n",
    "lines[1].set(linewidth=10, alpha=0.7)\n",
    "plt.show()"
   ]
  },
  {
   "cell_type": "markdown",
   "metadata": {},
   "source": [
    "To see what properties are set for an artist, use [`getp()`](https://matplotlib.org/stable/api/_as_gen/matplotlib.artist.getp.html#matplotlib.artist.getp)"
   ]
  },
  {
   "cell_type": "code",
   "execution_count": null,
   "metadata": {
    "jupyter": {
     "outputs_hidden": false
    }
   },
   "outputs": [],
   "source": [
    "fig = plt.figure()\n",
    "print(plt.getp(fig.patch))\n",
    "plt.close(fig)"
   ]
  },
  {
   "cell_type": "markdown",
   "metadata": {},
   "source": [
    "# Collections\n",
    "In addition to the Figure and Axes containers, there is another special type of container called a [`Collection`](http://matplotlib.org/stable/api/collections_api.html). A Collection usually contains a list of primitives of the same kind that should all be treated similiarly. For example, a [`CircleCollection`](http://matplotlib.org/stable/api/collections_api.html#matplotlib.collections.CircleCollection) would have a list of [`Circle`](https://matplotlib.org/stable/api/_as_gen/matplotlib.patches.Circle.html) objects all with the same color, size, and edge width. Individual property values for artists in the collection can also be set (in some cases)."
   ]
  },
  {
   "cell_type": "code",
   "execution_count": null,
   "metadata": {
    "jupyter": {
     "outputs_hidden": false
    }
   },
   "outputs": [],
   "source": [
    "from matplotlib.collections import LineCollection\n",
    "fig, ax = plt.subplots(1, 1)\n",
    "# A collection of 3 lines\n",
    "lc = LineCollection([[(4, 10), (16, 10)],\n",
    "                     [(2, 2), (10, 15), (6, 7)],\n",
    "                     [(14, 3), (1, 1), (3, 5)]])\n",
    "lc.set_color('r')\n",
    "lc.set_linewidth(5)\n",
    "ax.add_collection(lc)\n",
    "ax.set_xlim(0, 18)\n",
    "ax.set_ylim(0, 18)\n",
    "plt.show()"
   ]
  },
  {
   "cell_type": "code",
   "execution_count": null,
   "metadata": {
    "jupyter": {
     "outputs_hidden": false
    }
   },
   "outputs": [],
   "source": [
    "# Now set individual properties in a collection\n",
    "fig, ax = plt.subplots(1, 1)\n",
    "lc = LineCollection([[(4, 10), (16, 10)],\n",
    "                     [(2, 2), (10, 15), (6, 7)],\n",
    "                     [(14, 3), (1, 1), (3, 5)]])\n",
    "lc.set_color(['r', 'blue', (0.2, 0.9, 0.3)])\n",
    "lc.set_linewidth([4, 3, 6])\n",
    "ax.add_collection(lc)\n",
    "ax.set_xlim(0, 18)\n",
    "ax.set_ylim(0, 18)\n",
    "plt.show()"
   ]
  },
  {
   "cell_type": "markdown",
   "metadata": {},
   "source": [
    "There are other kinds of collections that are not just simply a list of primitives, but are Artists in their own right. These special kinds of collections take advantage of various optimizations that can be assumed when rendering similar or identical things. You use these collections all the time whether you realize it or not! Markers are implemented this way (so, whenever you do `plot()` or `scatter()`, for example)."
   ]
  },
  {
   "cell_type": "code",
   "execution_count": null,
   "metadata": {
    "jupyter": {
     "outputs_hidden": false
    }
   },
   "outputs": [],
   "source": [
    "from matplotlib.collections import RegularPolyCollection\n",
    "\n",
    "fig, ax = plt.subplots(1, 1)\n",
    "offsets = np.random.rand(20, 2)\n",
    "collection = RegularPolyCollection(\n",
    "    numsides=5,  # a pentagon\n",
    "    sizes=(250,),\n",
    "    offsets=offsets,\n",
    "    transOffset=ax.transData,\n",
    "    )\n",
    "ax.add_collection(collection)\n",
    "plt.show()"
   ]
  },
  {
   "cell_type": "markdown",
   "metadata": {},
   "source": [
    "## Exercise 5.1\n",
    "Give yourselves 4 gold stars!\n",
    "\n",
    "Hint: [StarPolygonCollection](http://matplotlib.org/api/collections_api.html#matplotlib.collections.StarPolygonCollection)"
   ]
  },
  {
   "cell_type": "code",
   "execution_count": null,
   "metadata": {},
   "outputs": [],
   "source": [
    "# %load exercises/5.1-goldstar.py\n",
    "from matplotlib.collections import StarPolygonCollection\n",
    "\n",
    "fig, ax = plt.subplots(1, 1)\n",
    "\n",
    "collection = StarPolygonCollection(5,\n",
    "                                   offsets=[(0.5, 0.5)],\n",
    "                                   transOffset=ax.transData)\n",
    "ax.add_collection(collection)\n",
    "plt.show()\n"
   ]
  },
  {
   "cell_type": "code",
   "execution_count": null,
   "metadata": {},
   "outputs": [],
   "source": []
  }
 ],
 "metadata": {
  "kernelspec": {
   "display_name": "Python 3 (ipykernel)",
   "language": "python",
   "name": "python3"
  },
  "language_info": {
   "codemirror_mode": {
    "name": "ipython",
    "version": 3
   },
   "file_extension": ".py",
   "mimetype": "text/x-python",
   "name": "python",
   "nbconvert_exporter": "python",
   "pygments_lexer": "ipython3",
   "version": "3.10.2"
  }
 },
 "nbformat": 4,
 "nbformat_minor": 4
}
